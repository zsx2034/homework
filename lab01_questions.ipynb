{
 "cells": [
  {
   "cell_type": "markdown",
   "metadata": {},
   "source": [
    "# MEC3456 LAB 01 "
   ]
  },
  {
   "cell_type": "markdown",
   "metadata": {},
   "source": [
    "<span style=\"color:red\">This lab should be completed **INDIVIDUALLY**. Collusion will result in a mark of zero. Collusion includes letting others copy your work and plagiarism is using code you did not write yourself without citing the source. Collaborating with others to discuss algorithms and details of Python syntax and structures is acceptable (indeed encouraged), however you **MUST** write your own code. All assignments will be checked using plagiarism-detecting software and similarities in submitted code will result in a human making a decision on whether the similarity constitutes plagiarism.</span>\n",
    "\n",
    "<span style=\"color:red\">Generative AI tools cannot be used in this assessment task. In this assessment, you must not use generative artificial intelligence (AI) to generate any materials or content concerning the assessment task.</span>\n"
   ]
  },
  {
   "cell_type": "markdown",
   "metadata": {},
   "source": [
    "This lab is marked out of 22 and contributes 4% toward your total unit mark for the semester.\n",
    "\n",
    "**You must provide a detailed explanation of your algorithm prior to the Jupyter cell which contains your code and you must include comments in your code that explains in detail your code.**\n",
    "\n",
    "**Marks will be deducted for poor coding style, including but not limited to insufficient comments, poor naming of variables, etc. (loss of 5 marks if not met)**"
   ]
  },
  {
   "cell_type": "markdown",
   "metadata": {},
   "source": [
    "Please enter your\n",
    "\n",
    "**Name:** Yifei Wang\n",
    "\n",
    "**Student ID:** 31125115"
   ]
  },
  {
   "cell_type": "markdown",
   "metadata": {},
   "source": [
    "## Submitting your assignment\n",
    "\n",
    "Submit your assignment online using Moodle. \n",
    "\n",
    "You should include all assignment answers and codes in this Jupyter Notebook and only submit this file. Only contents in this file will be marked.\n",
    "\n",
    "Before submitting your assignment, restart the Python kernel and click the \"Run all\" button on the Jupyter notebook. **Make sure the outputs are as expected, and that there are no errors.** The TAs will run all cells in the Jupyter notebook prior to marking and only the newly generated outputs will be marked, not the outputs submitted with the notebook. \n",
    "\n",
    "Code cells that do not run **will be marked as 0**, so please take extra care that everything runs correctly. \n",
    "\n",
    "For handwritten sections, please upload a legible photo/scan of your work as an embedded image (links will not be accepted). LaTeX is also an acceptable answer format."
   ]
  },
  {
   "cell_type": "code",
   "execution_count": 37,
   "metadata": {
    "tags": [],
    "ExecuteTime": {
     "end_time": "2024-03-08T07:43:54.143402Z",
     "start_time": "2024-03-08T07:43:54.138878Z"
    }
   },
   "outputs": [],
   "source": [
    "# Pre-assignment setup codes. Don't modify this code.\n",
    "import numpy as np\n",
    "import matplotlib.pyplot as plt\n",
    "\n",
    "def generate_system(N,student_id):\n",
    "    '''\n",
    "    A function to generate a linear system of size N with the given student_id\n",
    "    Need to ensure diagnally dominant for convergence\n",
    "\n",
    "    input:\n",
    "    N (int): the size of the linear system\n",
    "    student_id (int): the student ID\n",
    "\n",
    "    output:\n",
    "    A (numpy array): the system matrix\n",
    "    b (numpy array): the right-hand side column vector\n",
    "    '''\n",
    "\n",
    "    np.random.seed(student_id)\n",
    "    diag = np.random.rand(N) * 10\n",
    "    ioff = np.round(np.sqrt(N)).astype(int)\n",
    "    A = np.zeros((N, N))\n",
    "\n",
    "    for i in range(N):\n",
    "        A[i,i] = diag[i]\n",
    "        if i - 1 > -1:\n",
    "            A[i, i-1] = -0.25*diag[i]\n",
    "        if i + 1 <= N-1:\n",
    "            A[i, i+1] = -0.25*diag[i]\n",
    "        if i - ioff > -1:\n",
    "            A[i, i-ioff] = -0.25*diag[i]\n",
    "        if i + ioff <= N-1:\n",
    "            A[i, i+ioff] = -0.25*diag[i]\n",
    "    x = np.random.rand(N)*2 - 1\n",
    "    b = np.dot(A, x)\n",
    "    return A, b"
   ]
  },
  {
   "cell_type": "markdown",
   "metadata": {},
   "source": [
    "# Question 1 [6 Marks]\n",
    "Consider the following matrix system Ax = b:\n",
    "\n",
    "$\\left[\\begin{array}{lll}5 & 2 & 0 \\\\ 2 & 5 & 2 \\\\ 0 & 2 & 5\\end{array}\\right]\\left\\{\\begin{array}{l}x_1 \\\\ x_2 \\\\ x_3\\end{array}\\right\\}=\\left(\\begin{array}{l}3 \\\\ 2 \\\\ 1\\end{array}\\right)$"
   ]
  },
  {
   "cell_type": "markdown",
   "metadata": {},
   "source": [
    "### Q1a\n"
   ]
  },
  {
   "cell_type": "markdown",
   "metadata": {},
   "source": [
    "Express the above in the form that can be solved using the Jacobi algorithm. Write the 3 scalar equations that describe the Jacobi iteration for this system. Each equation should look like $Lx^{(k+1)}=Rx^{(k)}+b$.  Perform **TWO** iterations by hand using an initial guess of $x_i^{(0)}=0$.  Clearly show what are the first and second estimates of $x_i$.  [SHOW ALL WORKING]"
   ]
  },
  {
   "cell_type": "markdown",
   "metadata": {},
   "source": [
    "**Copy and paste the image containing the answer to this cell to embed it.**\n",
    "\n",
    "**Make sure the inserted image is not a link. the inserted image should look like** `![answer.JPG](attachment:answer.JPG)` **NOT** `![answer.JPG](link/to/a/image.JPG)`\n"
   ]
  },
  {
   "cell_type": "markdown",
   "metadata": {},
   "source": [
    "### Q1b"
   ]
  },
  {
   "cell_type": "markdown",
   "metadata": {},
   "source": [
    "Repeat Q1a but use the Gauss-Seidel method instead of the Jacobi method. "
   ]
  },
  {
   "cell_type": "markdown",
   "metadata": {},
   "source": [
    "**Copy and paste the image containing the answer to this cell to embed it.**"
   ]
  },
  {
   "cell_type": "markdown",
   "metadata": {},
   "source": [
    "### Q1c"
   ]
  },
  {
   "cell_type": "markdown",
   "metadata": {},
   "source": [
    "Rewrite the system you wrote in Q1b as a matrix equation that looks like $Lx^{(k+1)}=Rx^{(k)}+b$, i.e., explicitly describe what the matrices $L$, $R$ and vector $b$ are equal to."
   ]
  },
  {
   "cell_type": "markdown",
   "metadata": {},
   "source": [
    "**Copy and paste the image containing the answer to this cell to embed it.**"
   ]
  },
  {
   "cell_type": "markdown",
   "metadata": {},
   "source": [
    "# Question 2 [8 Marks]"
   ]
  },
  {
   "cell_type": "markdown",
   "metadata": {},
   "source": [
    "## Q2a\n",
    "Write a Python function that will execute the Jacobi algorithm to solve for a system of linear equations. Fill in your code in the next cell.\n",
    "\n",
    "The tolerance for this question is defined as:\n",
    "\n",
    "$$\n",
    "\\epsilon = \\max\\left(\\lvert \\frac{x_i^{k+1} - x_i^k}{x_i^{k+1}}\\rvert\\right)\n",
    "$$."
   ]
  },
  {
   "cell_type": "markdown",
   "metadata": {},
   "source": [
    "**Explain the algorithm of your code here**"
   ]
  },
  {
   "cell_type": "code",
   "execution_count": 38,
   "metadata": {
    "ExecuteTime": {
     "end_time": "2024-03-08T07:43:54.161499Z",
     "start_time": "2024-03-08T07:43:54.157477Z"
    }
   },
   "outputs": [],
   "source": [
    "def Jacobi(A, b, xold, tol):\n",
    "    '''\n",
    "    A function to perform the Jacobi algorthm to solve the linear system Ax=b\n",
    "\n",
    "    input:\n",
    "    A (numpy array): the system matrix\n",
    "    b (numpy array): the right-hand side column vector\n",
    "    xold (numpy array): the previous iteration of unknown column vector\n",
    "    tol (float): the tolerance for stopping criterion\n",
    "\n",
    "    output:\n",
    "    xnew (numpy array): the new iteration of unknown column vector\n",
    "    niter (int): the number of iterations to reach the tolerance\n",
    "    '''\n",
    "\n",
    "    xnew = np.zeros_like(xold)\n",
    "    \n",
    "    niter = 0\n",
    "\n",
    "    # Write your code here\n",
    "    # def calcTolerance(xnew, xold):\n",
    "    #     res = 0\n",
    "    #     for i in range(xnew.shape[0]):\n",
    "    #         res = max(res, abs(xnew[i] - xold[i]) / xnew[i])\n",
    "    #     return res\n",
    "\n",
    "    def calcTolerance(xnew, xold):\n",
    "        return np.max(np.abs((xnew - xold) / xnew))\n",
    "\n",
    "    while True:\n",
    "        for i in range(A.shape[0]):\n",
    "            xnew[i] = b[i]\n",
    "            for j in range(A.shape[1]):\n",
    "                if i != j:\n",
    "                    xnew[i] -= A[i, j] * xold[j]\n",
    "            xnew[i] /= A[i, i]\n",
    "        niter += 1\n",
    "        \n",
    "        if calcTolerance(xnew, xold) < tol:\n",
    "            break\n",
    "        xold = np.copy(xnew)\n",
    "\n",
    "    # diag = np.diag(A)\n",
    "    # while True:\n",
    "    #     xnew = (b - A @ xold) / diag\n",
    "    #     niter += 1\n",
    "    #     \n",
    "    #     if calcTolerance(xnew, xold) < tol:\n",
    "    #         break\n",
    "\n",
    "    return xnew, niter\n"
   ]
  },
  {
   "cell_type": "markdown",
   "metadata": {},
   "source": [
    "## Q2b\n",
    "Write a Python function that will execute the Gauss-Seidel algorithm to solve for a system of linear equations. Fill in your code in the next cell"
   ]
  },
  {
   "cell_type": "markdown",
   "metadata": {},
   "source": [
    "**Explain the algorithm of your code here**"
   ]
  },
  {
   "cell_type": "code",
   "execution_count": 39,
   "metadata": {
    "ExecuteTime": {
     "end_time": "2024-03-08T07:43:54.167530Z",
     "start_time": "2024-03-08T07:43:54.162504Z"
    }
   },
   "outputs": [],
   "source": [
    "def GaussSeidel(A, b, xold, tol):\n",
    "    '''\n",
    "    A function to perform the Gauss-Seidel algorithm to solve the linear system Ax=b\n",
    "\n",
    "    input:\n",
    "    A (numpy array): the system matrix\n",
    "    b (numpy array): the right-hand side column vector\n",
    "    xold (numpy array): the previous iteration of unknown column vector\n",
    "    tol (float): the tolerance for stopping criterion\n",
    "\n",
    "    output:\n",
    "    xnew (numpy array): the new iteration of unknown column vector\n",
    "    niter (int): the number of iterations to reach the tolerance\n",
    "    '''\n",
    "\n",
    "    xnew = np.zeros_like(xold)\n",
    "    niter = 0\n",
    "\n",
    "    # Write your code here\n",
    "    \n",
    "\n",
    "    return xnew, niter"
   ]
  },
  {
   "cell_type": "markdown",
   "metadata": {},
   "source": [
    "## Q2c\n",
    "Write Python code in the next cell to do the following:\n",
    "- Generate system matrix A and vector b using your student number and the provided function `generate_system`. The size of A is set to be 100x100.\n",
    "- Use the Jacobi function you wrote to solve the system using an initial guess of $x_i^{(0)}=0$.\n",
    "- Keep track of how many iterations it takes to reach the tolerance.\n",
    "- Loop over tolerances of [$10^{-4}$, $10^{-6}$, $10^{-8}$, $10^{-10}$, $10^{-12}$] \n",
    "- Print the tolerance and the number of iterations it took to reach it in the output with a suitable description.\n"
   ]
  },
  {
   "cell_type": "code",
   "execution_count": 40,
   "metadata": {
    "ExecuteTime": {
     "end_time": "2024-03-08T07:44:02.602695Z",
     "start_time": "2024-03-08T07:43:54.168033Z"
    }
   },
   "outputs": [
    {
     "name": "stdout",
     "output_type": "stream",
     "text": [
      "Tolerance: 0.0001, Iterations: 356\n",
      "Tolerance: 1e-06, Iterations: 574\n",
      "Tolerance: 1e-08, Iterations: 791\n",
      "Tolerance: 1e-10, Iterations: 1008\n",
      "Tolerance: 1e-12, Iterations: 1223\n"
     ]
    }
   ],
   "source": [
    "ID = 32577222 # replace with your student ID\n",
    "N = 100\n",
    "\n",
    "A, b = generate_system(N, ID)\n",
    "\n",
    "\n",
    "#Write your code here\n",
    "tols = [1e-4, 1e-6, 1e-8, 1e-10, 1e-12]\n",
    "for i in range(len(tols)):\n",
    "    x, niter = Jacobi(A, b, np.zeros(N), tols[i])\n",
    "    print(f'Tolerance: {tols[i]}, Iterations: {niter}')\n"
   ]
  },
  {
   "cell_type": "markdown",
   "metadata": {},
   "source": [
    "## Q2d\n",
    "Repeat Q2c but use the Gauss-Seidel function you wrote instead of the Jacobi function. In addition, plot the number of iterations both methods take to reach the tolerance as a function of the tolerance in a log-linear coordinate (use `plt.semilogx`). Make sure the plot includes axis labels, title, and a legend"
   ]
  },
  {
   "cell_type": "code",
   "execution_count": 41,
   "metadata": {
    "ExecuteTime": {
     "end_time": "2024-03-08T07:44:02.606214Z",
     "start_time": "2024-03-08T07:44:02.603701Z"
    }
   },
   "outputs": [],
   "source": [
    "ID = 20000000 # replace with your student ID\n",
    "N = 100\n",
    "\n",
    "A, b = generate_system(N, ID)\n",
    "\n",
    "\n",
    "#Write your code here\n"
   ]
  },
  {
   "cell_type": "markdown",
   "metadata": {},
   "source": [
    "## Q2e\n",
    "In the cell below comment and compare the behaviour of the methods. Which method is faster in obtaining a solution that satisfies the convergence criteria?"
   ]
  },
  {
   "cell_type": "markdown",
   "metadata": {},
   "source": [
    "**Write your response here**"
   ]
  },
  {
   "cell_type": "markdown",
   "metadata": {},
   "source": [
    "## Q2f\n",
    "How can you demonstrate that the solutions you have obtained are accurate? Demonstrate that this is the case based on the solutions obtained using the Gauss-Seidel method. You can append a code cell to this notebook to demonstrate this."
   ]
  },
  {
   "cell_type": "markdown",
   "metadata": {},
   "source": [
    "**Write your response here**"
   ]
  },
  {
   "cell_type": "markdown",
   "metadata": {},
   "source": [
    "# Question 3 [8 Marks]"
   ]
  },
  {
   "cell_type": "markdown",
   "metadata": {},
   "source": [
    "## Q3a\n",
    "Consider the following system of equations:\n",
    "\n",
    "$$\\begin{array}{rl}0&= y + \\sin (x) \\\\ (x-1)^2+(y+1)^2 &= 4\\end{array}$$\n",
    "\n",
    "Write the explicit 2 x 2 system of equations that would allow you determine the intersection points of f(x,y) and g(x,y) using the 2D Newton-Raphson method. Your 2 x 2 system must be expressed in the form that solves for increments ($\\Delta x$, $\\Delta y$) when the current guess is written as ($x^k$ , $y^k$ ). \n",
    "\n",
    "**Hint:** Create your functions f(x,y) and g(x,y) by moving EVERYTHING to the LHS of the equations above.\n",
    "\n",
    "If your initial guess for a solution is (x,y) = (0.5,0), perform ONE iteration of this system BY HAND, and write the new guesses for the root, ($x^{k+1}$ , $y^{k+1}$ ). Show all working."
   ]
  },
  {
   "cell_type": "markdown",
   "metadata": {},
   "source": [
    "**Copy and paste the image containing the answer to this cell to embed it.**"
   ]
  },
  {
   "cell_type": "markdown",
   "metadata": {},
   "source": [
    "## Q3b\n",
    "Write a function which determines where the two functions intersect using the 2D Newton-Raphson technique. The derivatives of the functions need to be calculated by hand and passed as input to the function. It is possible that a root does not exist, so implement some kind of error checking inside this function\n",
    "that prints a warning message if the function does not appear to be converging.\n",
    "\n",
    "For this question, the tolerance is defined as the absolute difference between the two function values ($\\epsilon = |f(x,y)-g(x,y)|$).\n",
    "\n",
    "Fill in your code in the next cell. You can use `np.linalg.solve` to solve the system of equations for question 3 ONLY"
   ]
  },
  {
   "cell_type": "markdown",
   "metadata": {},
   "source": [
    "**Explain the algorithm of your code here**"
   ]
  },
  {
   "cell_type": "code",
   "execution_count": 42,
   "metadata": {
    "ExecuteTime": {
     "end_time": "2024-03-08T07:44:02.613251Z",
     "start_time": "2024-03-08T07:44:02.606716Z"
    }
   },
   "outputs": [
    {
     "ename": "SyntaxError",
     "evalue": "invalid syntax (847352908.py, line 27)",
     "output_type": "error",
     "traceback": [
      "\u001B[1;36m  Cell \u001B[1;32mIn[42], line 27\u001B[1;36m\u001B[0m\n\u001B[1;33m    xi =\u001B[0m\n\u001B[1;37m         ^\u001B[0m\n\u001B[1;31mSyntaxError\u001B[0m\u001B[1;31m:\u001B[0m invalid syntax\n"
     ]
    }
   ],
   "source": [
    "def NR_2D(x0,y0,f,g,dfdx,dfdy,dgdx,dgdy,tol):\n",
    "    '''\n",
    "    Find the intersection point of two non-linear equations using the 2D Newton-Raphson method\n",
    "    input:\n",
    "    x0 (float): initial guess of x\n",
    "    y0 (float): initial guess of y\n",
    "    f (function): the first non-linear equation\n",
    "    g (function): the second non-linear equation\n",
    "    dfdx (function): the first derivative of f with respect to x\n",
    "    dfdy (function): the first derivative of f with respect to y\n",
    "    dgdx (function): the first derivative of g with respect to x\n",
    "    dgdy (function): the first derivative of g with respect to y\n",
    "    tol (float): the tolerance for stopping criterion\n",
    "\n",
    "    output:\n",
    "    xi (float): the x coordinate of the intersection point\n",
    "    yi (float): the y coordinate of the intersection point\n",
    "    niter (int): the number of iterations to reach the tolerance\n",
    "    '''\n",
    "\n",
    "    xi = x0; yi = y0\n",
    "    niter = 0\n",
    "\n",
    "    #Write your code here\n",
    "    \n",
    "    while True:\n",
    "\n",
    "\n",
    "    return xi, yi, niter\n",
    "\n",
    "\n"
   ]
  },
  {
   "cell_type": "markdown",
   "metadata": {},
   "source": [
    "## Q3c\n",
    "Test your function by finding two different points where $f(x,y)$ and $g(x,y)$ given in Q3a intersect. Use any initial guesses you like (you will need to hard\n",
    "code 2 different initial guesses to find 2 different roots) and choose a tolerance of $10^{-10}$.\n",
    "\n",
    "Print the intersection values below the cell with 6 decimal points, and the number of iterations taken for each initial guess.\n"
   ]
  },
  {
   "cell_type": "code",
   "execution_count": null,
   "metadata": {
    "ExecuteTime": {
     "end_time": "2024-03-08T07:44:02.613754Z",
     "start_time": "2024-03-08T07:44:02.613754Z"
    }
   },
   "outputs": [],
   "source": [
    "#Write your code here and below\n",
    "def f(x,y):\n",
    "    return ???\n",
    "def g(x,y):\n",
    "    return ???\n",
    "\n",
    "def dfdx(x,y):\n",
    "    return ???\n",
    "def dfdy(x,y):\n",
    "    return ???\n",
    "def dgdx(x,y):\n",
    "    return ???\n",
    "def dgdy(x,y):\n",
    "    return ???\n",
    "\n",
    "\n",
    "def NR_2D(x0,y0,f,g,dfdx,dfdy,dgdx,dgdy,tol):"
   ]
  },
  {
   "cell_type": "markdown",
   "metadata": {},
   "source": [
    "## Q3d\n",
    "How can you tell if the intersection point you have found is correct within the tolerance? Demonstrate that this is the case based on the solutions obtained using the 2D Newton-Raphson method. You can append a code cell to this notebook to demonstrate this."
   ]
  },
  {
   "cell_type": "markdown",
   "metadata": {},
   "source": [
    "**Write your response here**"
   ]
  },
  {
   "cell_type": "markdown",
   "metadata": {},
   "source": [
    "## Q3e\n",
    "Write about how do you prevent the Newton-Raphson method from running indefinitely, if there are no intersection points between the two functions."
   ]
  },
  {
   "cell_type": "markdown",
   "metadata": {},
   "source": [
    "**Write your response here**"
   ]
  }
 ],
 "metadata": {
  "kernelspec": {
   "display_name": "py_39",
   "language": "python",
   "name": "python3"
  },
  "language_info": {
   "codemirror_mode": {
    "name": "ipython",
    "version": 3
   },
   "file_extension": ".py",
   "mimetype": "text/x-python",
   "name": "python",
   "nbconvert_exporter": "python",
   "pygments_lexer": "ipython3",
   "version": "3.11.8"
  }
 },
 "nbformat": 4,
 "nbformat_minor": 2
}
