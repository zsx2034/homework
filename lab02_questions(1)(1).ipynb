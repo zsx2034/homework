{
  "cells": [
    {
      "cell_type": "markdown",
      "metadata": {
        "id": "L_FeuB0NutxC"
      },
      "source": [
        "# MEC3456 LAB 02\n",
        "<sup> version 1.6-Q_final (from V1.3-A)</sup>"
      ]
    },
    {
      "cell_type": "markdown",
      "metadata": {
        "id": "p1Nnr_RCutxD"
      },
      "source": [
        "<span style=\"color:red\">This lab should be completed **INDIVIDUALLY**. Collusion will result in a mark of zero. Collusion includes letting others copy your work and plagiarism is using code you did not write yourself without citing the source. Collaborating with others to discuss algorithms and details of Python syntax and structures is acceptable (indeed encouraged), however you **MUST** write your own code. All assignments will be checked using plagiarism-detecting software and similarities in submitted code will result in a human making a decision on whether the similarity constitutes plagiarism.</span>\n",
        "\n",
        "<span style=\"color:red\">Generative AI tools cannot be used in this assessment task. In this assessment, you must not use generative artificial intelligence (AI) to generate any materials or content concerning the assessment task.</span>\n"
      ]
    },
    {
      "cell_type": "markdown",
      "metadata": {
        "id": "cW1JbZ8xutxD"
      },
      "source": [
        "This lab is marked out of 23 and contributes 4% toward your total unit mark for the semester.\n",
        "\n",
        "**You must provide pseudo code of your algorithm prior to the Jupyter cell which contains your code in a step-by-step format. You also must provide detailed comments of your code, including but not limited to which step in pseudo code corresponds to the python code.**\n",
        "\n",
        "**Marks will be deducted for poor coding style, including but not limited to insufficient comments, poor naming of variables, etc. (loss of 5 marks if not met)**"
      ]
    },
    {
      "cell_type": "markdown",
      "metadata": {
        "id": "3bYdTASLutxE"
      },
      "source": [
        "Please enter your\n",
        "\n",
        "**NameYifei Wang**\n",
        "\n",
        "**Student ID:31125115**"
      ]
    },
    {
      "cell_type": "markdown",
      "metadata": {
        "id": "Lq0aLRAgutxE"
      },
      "source": [
        "## Submitting your assignment\n",
        "\n",
        "Submit your assignment online using Moodle. Rename your jupyter notebook to `lab0[x]_[StudentID].ipynb` for example `lab01_20000000.ipynb`.\n",
        "\n",
        "You should include all assignment answers and codes in this Jupyter Notebook and only submit this file. Only contents in this file will be marked.\n",
        "\n",
        "Before submitting your assignment, restart the Python kernel and click the \"Run all\" button on the Jupyter notebook. **Make sure the outputs are as expected, and that there are no errors.** The TAs will run all cells in the Jupyter notebook prior to marking and only the newly generated outputs will be marked, not the outputs submitted with the notebook.\n",
        "\n",
        "Code cells that do not run **will be marked as 0**, so please take extra care that everything runs correctly.\n",
        "\n",
        "For handwritten sections, please upload a legible photo/scan of your work as an embedded image (links will not be accepted). Latex is also an acceptable answer format."
      ]
    },
    {
      "cell_type": "code",
      "execution_count": null,
      "metadata": {
        "id": "aQBg73zmutxF",
        "tags": [
          "hide-input"
        ]
      },
      "outputs": [],
      "source": [
        "# Pre-assignment setup codes. Don't modify this code.\n",
        "import numpy as np\n",
        "import matplotlib.pyplot as plt\n",
        "\n",
        "def sin2D(x, y):\n",
        "    # Function with sine waves\n",
        "    return  np.sin(x*1.5*np.pi)*np.sin(y*1.5*np.pi)*2\n",
        "\n",
        "def generate_spline_data(StudentID):\n",
        "\n",
        "    from scipy.special import erf\n",
        "    np.random.seed(StudentID)\n",
        "    interval = 0.5\n",
        "    x = np.arange(-3,3,interval)\n",
        "    x = x +np.random.rand(x.size)*interval/2\n",
        "    y = erf(x)\n",
        "\n",
        "    #rotate x and y by 30 degrees\n",
        "\n",
        "    theta = np.pi/6\n",
        "    x_1 = x*np.cos(theta) - y*np.sin(theta)\n",
        "    y_1 = x*np.sin(theta) + y*np.cos(theta)\n",
        "    x = x_1\n",
        "    y = y_1\n",
        "    return x,y\n",
        "\n",
        "def create_2d_spline_data(studentID):\n",
        "    np.random.seed(studentID)\n",
        "    # spacing = 0.06\n",
        "    # x_linear = np.arange(-0.75,0.75,spacing)\n",
        "    # y_linear = np.arange(-0.75,0.75,spacing)\n",
        "\n",
        "    x_linear = np.linspace(-1,1,25)\n",
        "    y_linear = np.linspace(-1,1,25)\n",
        "\n",
        "    dx = x_linear[1]-x_linear[0]\n",
        "    dy = y_linear[1]-y_linear[0]\n",
        "\n",
        "    x_linear[1:-1] = x_linear[1:-1] + (np.random.rand(x_linear.size-2)-0.5)*dx/2\n",
        "    y_linear[1:-1] = y_linear[1:-1] + (np.random.rand(y_linear.size-2)-0.5)*dy/2\n",
        "\n",
        "    xx, yy = np.meshgrid(x_linear, y_linear)\n",
        "    f = sin2D(xx, yy)\n",
        "\n",
        "    return x_linear,y_linear,f\n",
        "\n",
        "def q3_analytical_solution(xx,yy):\n",
        "    return sin2D(xx,yy)"
      ]
    },
    {
      "cell_type": "markdown",
      "metadata": {
        "id": "aPJ_Lkt2utxF"
      },
      "source": [
        "# Question 1 [6 marks]\n",
        "Consider the following set of data points\n",
        "\n",
        "| index | 0 | 1   | 2   | 3   | 4   | 5   | 6   | 7   | 8   | 9   |\n",
        "|-----|-----|-----|-----|-----|-----|-----|-----|-----|-----|-----|\n",
        "| $x$ | 1.4 | 2.2 | 3.7 | 4.3 | 5.1 | 6.8 | 7.4 | 8.3 | 9.1 | 10.0|\n",
        "| $y$ | 2.5 | 3.8 | 5.7 | 10.2| 15.2| 16.0| 13.2| 10.4| 2.1 | -1.5|"
      ]
    },
    {
      "cell_type": "markdown",
      "metadata": {
        "id": "o0uozWq1utxG"
      },
      "source": [
        "### Q1a [3 marks]\n"
      ]
    },
    {
      "cell_type": "markdown",
      "metadata": {
        "id": "PWTeX5WUutxG"
      },
      "source": [
        "Use a third order Lagrange polynomial interpolation to find the $y$ value when $x=5$ by hand. State the indices of the data points you will use before working, and explain why you use these particular data points."
      ]
    },
    {
      "cell_type": "markdown",
      "metadata": {
        "id": "fb7qTY85utxH"
      },
      "source": [
        "**Copy and paste the image containing the answer to this cell to embed it.**\n"
      ]
    },
    {
      "cell_type": "markdown",
      "metadata": {
        "id": "c9oLns-yutxH"
      },
      "source": [
        "### Q1b [3 marks]"
      ]
    },
    {
      "cell_type": "markdown",
      "metadata": {
        "id": "Mpt2OFFSutxI"
      },
      "source": [
        "Repeat Q1a but use the Newton’s divided difference method by hand. Compare and comment the results you obtained from Q1a and Q1b."
      ]
    },
    {
      "cell_type": "markdown",
      "metadata": {
        "id": "fNlpUYffutxI"
      },
      "source": [
        "**Copy and paste the image containing the answer to this cell to embed it.**"
      ]
    },
    {
      "cell_type": "markdown",
      "metadata": {
        "id": "8bjpnGJSutxI"
      },
      "source": [
        "# Question 2 [10 marks]"
      ]
    },
    {
      "cell_type": "markdown",
      "metadata": {
        "id": "ul-bRgnuutxI"
      },
      "source": [
        "## Q2a [3 marks]\n",
        "Consider the following set of data points\n",
        "\n",
        "| index | 0 | 1   | 2   | 3   | 4 |\n",
        "|-----|-----|-----|-----|-----|---|\n",
        "| $x$ | 1.2 | 2.1 | 3.4 | 4.6 | 5.1 |\n",
        "| $y$ | 0.3 | 6.7 | -5.2 | 4.2| 6.3|\n",
        "\n",
        "To construct a cubic spline for this set of data using natural boundary conditions, first state the number of spline functions and the number of unknowns for the spline, then construct the system matrix you need to solve for $c_i$ by hand. You don't need to solve for values of $c_i$."
      ]
    },
    {
      "cell_type": "markdown",
      "metadata": {
        "id": "t4RYF0cwutxI"
      },
      "source": [
        "**Copy and paste the image containing the answer to this cell to embed it.**\n"
      ]
    },
    {
      "cell_type": "markdown",
      "metadata": {
        "id": "apUGVzclutxJ"
      },
      "source": [
        "## Q2b [2 marks]\n",
        "Write a Python function to calculate the cubic spline coefficients from an input of an arbitrary length with clamped boundary conditions. Implement a check and raise Value errors if the inputs have inadequate lengths. (use `raise ValueError('error message')`)\n",
        "\n",
        "The outputs should be four one-dimensional numpy arrays of the size equal to the number of spline segments, each representing one spline coefficient $(a_i, b_i, c_i, d_i)$ for each segment of the spline $f_i(x)$. Each cubic spline is defined by:\n",
        "\n",
        "$$f_i(x) = a_i + b_i(x-x_i) + c_i(x-x_i)^2 + d_i(x-x_i)^3$$"
      ]
    },
    {
      "cell_type": "markdown",
      "metadata": {
        "id": "usNpv2DTqAk6"
      },
      "source": [
        "**Provide the pseudo code for your algorithm before writing the code.**"
      ]
    },
    {
      "cell_type": "code",
      "execution_count": null,
      "metadata": {
        "id": "b06j1FyqutxJ"
      },
      "outputs": [],
      "source": [
        "def SplineCoeff(x, y, deriv):\n",
        "    '''\n",
        "    This function computes the coefficients of the cubic spline interpolant.\n",
        "    input:\n",
        "    x (numpy array) : x-coordinates of the data points\n",
        "    y (numpy array) : y-coordinates of the data points\n",
        "    deriv (numpy array) : derivative values at the ends of the data points\n",
        "    output:\n",
        "    a (numpy array) : coefficients of the spline coefficients\n",
        "    b (numpy array) : coefficients of the spline coefficients\n",
        "    c (numpy array) : coefficients of the spline coefficients\n",
        "    d (numpy array) : coefficients of the spline coefficients\n",
        "    '''\n",
        "    # Write your code here\n",
        "\n",
        "    n = len(x)\n",
        "    A = np.zeros((n, n))\n",
        "    B = np.zeros(n)\n",
        "\n",
        "    h = np.zeros(n-1)\n",
        "    for i in range(n-1):\n",
        "        h[i] = x[i+1] - x[i]\n",
        "\n",
        "    A[0, 0] = 2 * h[0]\n",
        "    A[0, 1] = h[0]\n",
        "    A[n-1, n-2] = h[n-2]\n",
        "    A[n-1, n-1] = 2 * h[n-2]\n",
        "\n",
        "    for i in range(1, n-1):\n",
        "        A[i, i-1] = h[i-1]\n",
        "        A[i, i] = 2 * (h[i-1] + h[i])\n",
        "        A[i, i+1] = h[i]\n",
        "\n",
        "    s1 = deriv[0]\n",
        "    sn = deriv[1]\n",
        "\n",
        "    B[0] = 3 * ((y[1] - y[0]) / h[0] - s1)\n",
        "    B[n-1] = 3 * (sn - (y[n-1] - y[n - 2]) / h[n-2])\n",
        "    for i in range(1, n-1):\n",
        "        B[i] = 3 * (y[i+1] - y[i]) / h[i] - 3 * (y[i] - y[i-1]) / h[i-1]\n",
        "        \n",
        "    print(np.linalg.det(A))\n",
        "    c = np.linalg.solve(A, B)\n",
        "    \n",
        "    a = np.zeros(n-1)\n",
        "    b = np.zeros(n-1)\n",
        "    d = np.zeros(n-1)\n",
        "    \n",
        "    for i in range(n-1):\n",
        "        a[i] = y[i]\n",
        "        b[i] = (y[i+1] - y[i]) / h[i] - h[i] * (2 * c[i] + c[i+1]) / 3\n",
        "        d[i] = (c[i+1] - c[i]) / (3 * h[i])\n",
        "    \n",
        "    return a, b, c, d\n",
        "    \n",
        "\n",
        "# Use the following code to verify the completed interpolation function\n",
        "# The x and y here can be modified by yourself, but must ensure that x is increasing\n",
        "x = np.array([0, 1, 2, 3], dtype=np.float64)\n",
        "y = np.array([0, 1, 0, 1], dtype=np.float64)\n",
        "\n",
        "a, b, c, d = SplineCoeff(x, y, np.array([1, 1], dtype=np.float64))\n",
        "\n",
        "# StudentID = np.random.randint(0,100000)+31125115 #Change this to your student ID\n",
        "# x,y = generate_spline_data(StudentID)\n",
        "# #Write your code here\n",
        "# deriv = [np.sqrt(3) / 3, np.sqrt(3) / 3]\n",
        "# a, b, c, d = SplineCoeff(x, y, deriv)\n",
        "\n",
        "from matplotlib import pyplot as plt\n",
        "\n",
        "# This part is drawn using a function written by myself\n",
        "for i in range(len(x)-1):\n",
        "    X = np.linspace(x[i], x[i+1], 100)\n",
        "    Y = a[i] + b[i] * (X - x[i]) + c[i] * (X - x[i])**2 + d[i] * (X - x[i])**3\n",
        "    plt.plot(X, Y, label=f'Segment {i+1}')\n",
        "\n",
        "# This part is drawn using scipy's CubicSpline function.\n",
        "from scipy.interpolate import CubicSpline\n",
        "X = np.linspace(x[0], x[-1], 100)\n",
        "cs = CubicSpline(x, y, bc_type=((1, 1), (1, 1)))\n",
        "plt.plot(X, cs(X), label='Cubic Spline')\n",
        "\n",
        "# If the interpolation method is implemented correctly, the two images should be coincident.\n",
        "plt.scatter(x, y)\n",
        "plt.legend()\n",
        "plt.show()"
      ]
    },
    {
      "cell_type": "markdown",
      "metadata": {
        "id": "FBM-gEBAutxJ"
      },
      "source": [
        "## Q2c [2 marks]\n",
        "Write a Python function that calculates the interpolated y-values specified from the cubic splines for an array of input x values. You can assume that the input values are in ascending order and within the range of `xi`.\n"
      ]
    },
    {
      "cell_type": "markdown",
      "metadata": {
        "id": "FsMMiYVHqAk6"
      },
      "source": [
        "**Provide the pseudo code for your algorithm before writing the code.**"
      ]
    },
    {
      "cell_type": "code",
      "execution_count": null,
      "metadata": {
        "id": "5cHspUJUutxJ"
      },
      "outputs": [],
      "source": [
        "\n",
        "def SplineCalc(a,b,c,d,xi,xp):\n",
        "    '''\n",
        "    This function evaluates the spline interpolant at the points in xp.\n",
        "    input:\n",
        "    a (numpy array) : coefficients of the spline coefficients\n",
        "    b (numpy array) : coefficients of the spline coefficients\n",
        "    c (numpy array) : coefficients of the spline coefficients\n",
        "    d (numpy array) : coefficients of the spline coefficients\n",
        "    xi (numpy array) : x-coordinates of the data points\n",
        "    xp (numpy array) : x-coordinates of the points to be evaluated\n",
        "    output:\n",
        "    yp (numpy array) : interpolated y-coordinates\n",
        "    '''\n",
        "    #Write your code here\n",
        "    n = len(xi)\n",
        "    yp = np.zeros_like(xp)\n",
        "    \n",
        "    # xp\n",
        "    for i in range(n):\n",
        "        # xi\n",
        "        x = xp[i]\n",
        "        for j in range(len(xi) - 1):\n",
        "            if xp[i] >= xi[j] and xp[i] <= xi[j+1]:\n",
        "                \n",
        "                yp[i] = a[j] + b[j] * (x - xi[j]) + c[j] * (x - xi[j]) ** 2 + d[j] * (x - xi[j]) ** 3\n",
        "    \n",
        "    return yp"
      ]
    },
    {
      "cell_type": "markdown",
      "metadata": {
        "id": "RM60ZCL4utxK"
      },
      "source": [
        "## Q2d [1 marks]\n",
        "Using the functions you have written in Q2b and Q2c, interpolate the supplied profile with an interval of 0.01. Make the gradient equal to $\\sqrt{3}/3$ at both ends of the interpolated data.\n",
        "\n",
        "Plot the supplied data as crosses and the interpolated data as a line on the same graph. Comment on your solution."
      ]
    },
    {
      "cell_type": "code",
      "execution_count": null,
      "metadata": {
        "colab": {
          "base_uri": "https://localhost:8080/",
          "height": 490
        },
        "id": "GlwDnsH0utxK",
        "outputId": "99363c4b-00bc-4a63-eaa2-9351ff5fda1c"
      },
      "outputs": [],
      "source": [
        "StudentID = np.random.randint(0,100000)+31125115 #Change this to your student ID\n",
        "x,y = generate_spline_data(StudentID)\n",
        "#Write your code here\n",
        "deriv = [np.sqrt(3) / 3, np.sqrt(3) / 3]\n",
        "a, b, c, d = SplineCoeff(x, y, deriv)\n",
        "\n",
        "# xp = np.arange(x[0], x[-1], 0.01)\n",
        "# yp = SplineCalc(a, b, c, d, x, xp)\n",
        "\n",
        "# plt.plot(x, y, 'rx')\n",
        "# plt.plot(xp, yp, 'b-')"
      ]
    },
    {
      "cell_type": "markdown",
      "metadata": {
        "id": "D4m7GANCQvTr"
      },
      "source": [
        "## Q2e [2 marks]\n",
        "Redo Q2d using a gradient of `10` at both ends. What differences and similarities do you notice between the two fitted lines? Judging from the two fitted lines, which one yields a better fit and why?"
      ]
    },
    {
      "cell_type": "code",
      "execution_count": null,
      "metadata": {
        "colab": {
          "base_uri": "https://localhost:8080/",
          "height": 490
        },
        "id": "5c7m2iqvRQGb",
        "outputId": "c36653c8-ef1a-4321-91cf-9abe5120e44d"
      },
      "outputs": [],
      "source": [
        "#Write your code here\n"
      ]
    },
    {
      "cell_type": "markdown",
      "metadata": {},
      "source": [
        "**Write your answer here**"
      ]
    },
    {
      "cell_type": "markdown",
      "metadata": {
        "id": "8-v09zaautxL"
      },
      "source": [
        "# Question 3 [7 Marks]"
      ]
    },
    {
      "cell_type": "markdown",
      "metadata": {
        "id": "xBHSIE6HIPYF"
      },
      "source": [
        "In this question, we will investigate interpolation from structured two-dimensional datasets."
      ]
    },
    {
      "cell_type": "markdown",
      "metadata": {
        "id": "zJaU6VfsutxL"
      },
      "source": [
        "## Q3a [1 mark]"
      ]
    },
    {
      "cell_type": "markdown",
      "metadata": {
        "id": "3MHjh7_zI6tg"
      },
      "source": [
        "By hand, interpolate the value at (0.3,0.7) using the bilinear interpolation method, given the following dataset:\n",
        "\n",
        "| x | y | f |\n",
        "|---|---|---|\n",
        "| 0 | 0 | -1.2 |\n",
        "| 0 | 1 | -0.3 |\n",
        "| 1 | 0 | 1.1 |\n",
        "| 1 | 1 | 0.4 |"
      ]
    },
    {
      "cell_type": "markdown",
      "metadata": {
        "id": "XcaOqd9nJlyw"
      },
      "source": [
        "**Copy and paste the image containing the answer to this cell to embed it.**\n"
      ]
    },
    {
      "cell_type": "markdown",
      "metadata": {
        "id": "lGMSR5aCJvnT"
      },
      "source": [
        "## Q3b [2 marks]\n",
        "Using the spline interpolation functions you have written for Question 2, write a function that does the interpolation in one dimension, then write another function to perform two-dimensional spline interpolation.\n"
      ]
    },
    {
      "cell_type": "markdown",
      "metadata": {
        "id": "CZlSL28zqAk9"
      },
      "source": [
        "**Provide the pseudo code for your algorithm before writing the code.**"
      ]
    },
    {
      "cell_type": "code",
      "execution_count": null,
      "metadata": {
        "id": "cibFJ8XOLBRT"
      },
      "outputs": [],
      "source": [
        "def splineInterpolation(xi,yi,deriv,xp):\n",
        "  '''\n",
        "  This function interpolates the data points using cubic spline interpolation.\n",
        "  input:\n",
        "  xi (numpy array) : x-coordinates of the data points\n",
        "  yi (numpy array) : y-coordinates of the data points\n",
        "  deriv (numpy array) : derivative values at the ends of the data points\n",
        "  xp (numpy array) : x-coordinates of the points to be evaluated\n",
        "\n",
        "  output:\n",
        "  yp (numpy array) : interpolated y-coordinates\n",
        "  '''\n",
        "\n",
        "  #Write your code here\n",
        "  a, b, c, d = SplineCoeff(xi, yi, deriv)\n",
        "  yp = SplineCalc(a, b, c, d, xi, xp)\n",
        "  return yp\n",
        "\n",
        "def splineInterpolation2D(x_i_linear,y_i_linear,f_i,deriv,x_p_linear,y_p_linear):\n",
        "  '''\n",
        "  This function interpolates the data points using cubic spline interpolation in a structured two dimensional grid.\n",
        "  input:\n",
        "  x_i_linear (numpy array) : x-coordinates of the data points\n",
        "  y_i_linear (numpy array) : y-coordinates of the data points\n",
        "  f_i (numpy array) : function values at the data points\n",
        "  deriv (numpy array) : derivative values at the ends of the data points\n",
        "  x_p_linear (numpy array) : x-coordinates of the points to be evaluated\n",
        "  y_p_linear (numpy array) : y-coordinates of the points to be evaluated\n",
        "\n",
        "  output:\n",
        "  f_p (numpy array) : interpolated function values\n",
        "  '''\n",
        "  #Write your code here\n",
        "  f_p = np.zeros((len(y_p_linear), len(x_p_linear)))\n",
        "  for i, y in enumerate(y_p_linear):\n",
        "      f_p[i, :] = splineInterpolation(x_i_linear, f_i[i, :], deriv, x_p_linear)\n",
        "  return f_p\n"
      ]
    },
    {
      "cell_type": "markdown",
      "metadata": {
        "id": "4n8aFu7UPrfb"
      },
      "source": [
        "## Q3c [2 marks]"
      ]
    },
    {
      "cell_type": "markdown",
      "metadata": {
        "id": "TtkPrVkz9f16"
      },
      "source": [
        "Use the function from Q3b to interpolate the supplied data to another regular grid from -1 to 1 with 50 equally spaced points in both the x- and y- directions. Use clamped boundary conditions with zero derivatives on the boundaries.\n",
        "\n",
        "Plot the supplied data as a scatter plot with the face color representing the value, black edges and adequate size. Overlay the scatter plot over a filled contour plot of interpolated data, which uses the same color map and color scale. Complete the plot with a colorbar, figure title and axis titles. All these functionalities can be achieved by using appropriate functions from `matplotlib.pyplot` or in shorthand, `plt`.\n"
      ]
    },
    {
      "cell_type": "code",
      "execution_count": null,
      "metadata": {
        "colab": {
          "base_uri": "https://localhost:8080/",
          "height": 490
        },
        "id": "lUpsUvlOzyr5",
        "outputId": "8e056a0f-1cd3-4e1c-b368-47c43d54b903"
      },
      "outputs": [],
      "source": [
        "x_i_linear,y_i_linear,f_i = create_2d_spline_data(StudentID)\n",
        "\n",
        "# Your answer to question Q3c goes here\n",
        "\n"
      ]
    },
    {
      "cell_type": "markdown",
      "metadata": {
        "id": "iWe4mK4O4CBn"
      },
      "source": [
        "## Q3d [2 marks]"
      ]
    },
    {
      "cell_type": "markdown",
      "metadata": {
        "id": "7JtaHbF57QAw"
      },
      "source": [
        "Plot the squared error between the analytical function and the interpolated points from the previous question as a filled contour plot. In addition, calculate the mean squared error (MSE), which is defined as $\\frac{1}{n}\\sum_{i=0}^{n}(\\tilde{y_i} - y_i)^2$, where $\\tilde{y}$ is the analytical value and $y$ is the interpolated value. Print the MSE with an appropriate message. Analyse the contour plot of the error, and explain why the error peaks at certain locations."
      ]
    },
    {
      "cell_type": "code",
      "execution_count": null,
      "metadata": {
        "colab": {
          "base_uri": "https://localhost:8080/",
          "height": 490
        },
        "id": "NV5G-mZo4GlJ",
        "outputId": "e74e9610-0309-4fa6-98b9-f8a0b0de160d"
      },
      "outputs": [],
      "source": [
        "f_analytical = q3_analytical_solution(xx_p, yy_p) #xx_p and yy_p are the 2d meshgrid.\n",
        "\n",
        "# Your answer to question Q3d goes here\n"
      ]
    },
    {
      "cell_type": "markdown",
      "metadata": {
        "id": "zPO2iHKHFHdC"
      },
      "source": [
        "**Enter your analysis and explaination here**"
      ]
    }
  ],
  "metadata": {
    "colab": {
      "provenance": []
    },
    "kernelspec": {
      "display_name": "Python 3 (ipykernel)",
      "language": "python",
      "name": "python3"
    },
    "language_info": {
      "codemirror_mode": {
        "name": "ipython",
        "version": 3
      },
      "file_extension": ".py",
      "mimetype": "text/x-python",
      "name": "python",
      "nbconvert_exporter": "python",
      "pygments_lexer": "ipython3",
      "version": "3.11.8"
    }
  },
  "nbformat": 4,
  "nbformat_minor": 0
}
