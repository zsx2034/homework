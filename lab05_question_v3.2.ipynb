{
 "cells": [
  {
   "cell_type": "markdown",
   "metadata": {},
   "source": [
    "# MEC3456 LAB 05\n",
    "<sup> version 3.2-Q (from  V3.0-A)</sup>"
   ]
  },
  {
   "cell_type": "markdown",
   "metadata": {},
   "source": [
    "<span style=\"color:red\">This lab should be completed **INDIVIDUALLY**. Collusion will result in a mark of zero. Collusion includes letting others copy your work and plagiarism is using code you did not write yourself without citing the source. Collaborating with others to discuss algorithms and details of Python syntax and structures is acceptable (indeed encouraged), however you **MUST** write your own code. All assignments will be checked using plagiarism-detecting software and similarities in submitted code will result in a human making a decision on whether the similarity constitutes plagiarism.</span>\n",
    "\n",
    "<span style=\"color:red\">Generative AI tools cannot be used in this assessment task. In this assessment, you must not use generative artificial intelligence (AI) to generate any materials or content concerning the assessment task.</span>\n"
   ]
  },
  {
   "cell_type": "markdown",
   "metadata": {},
   "source": [
    "This lab is marked out of 50 and contributes 8% toward your total unit mark for the semester.\n",
    "\n",
    "**You must provide a pseudo-code of your algorithm in a step-by-step format before the Jupyter cell which contains your code. You also must provide detailed comments on your code, including but not limited to which step in the pseudo-code corresponds to the Python code.**\n",
    "\n",
    "**Marks will also be deducted for poor coding style, including but not limited to insufficient comments, poor naming of variables, etc. (loss of 5 marks if these requirements are not met)**"
   ]
  },
  {
   "cell_type": "markdown",
   "metadata": {},
   "source": [
    "Please enter your\n",
    "\n",
    "**Name:**\n",
    "\n",
    "**Student ID:**"
   ]
  },
  {
   "cell_type": "markdown",
   "metadata": {},
   "source": [
    "## Submitting your assignment\n",
    "\n",
    "- Submit your assignment online using Moodle. \n",
    "\n",
    "- Rename your jupyter notebook to `lab0[x]_[StudentID].ipynb`\n",
    "    - for example `lab01_20000000.ipynb`.\n",
    "\n",
    "- You should include all assignment answers and codes in this Jupyter Notebook and only submit this file. **Only contents in this file will be marked**.\n",
    "\n",
    "- Before submitting your assignment, restart the Python kernel and click the \"Run all\" button on the Jupyter notebook. **Make sure the outputs are as expected, and that there are no errors.** The TAs will run all cells in the Jupyter notebook prior to marking and only the newly generated outputs will be marked, not the outputs submitted with the notebook.\n",
    "\n",
    "- Code cells that do not run **will be marked as 0**, so please take extra care that everything runs correctly.\n",
    "\n",
    "- For handwritten sections, please upload a legible photo/scan of your work as an embedded image (links will not be accepted). Latex is also an acceptable answer format.\n",
    "\n",
    "- **Please ensure that all scanned and embedded images are correctly embedded by downloading your submitted Jupyter Notebook Laboratory to a different directory, opening it and checking that all your embedded images are visible. It is your responsability to ensure that a correct and complete Jupyter Notebook Laboratory is submitted.**"
   ]
  },
  {
   "cell_type": "code",
   "execution_count": 1,
   "metadata": {},
   "outputs": [],
   "source": [
    "# Pre-assignment setup codes. Don't modify this code.\n",
    "import numpy             as np\n",
    "import matplotlib.pyplot as plt\n"
   ]
  },
  {
   "cell_type": "markdown",
   "metadata": {},
   "source": [
    "# Question 1 (5 marks)\n"
   ]
  },
  {
   "cell_type": "markdown",
   "metadata": {},
   "source": [
    "The Adams-Moulton integration schemes are one of the many ways to find solutions of the ODE $dy/dt=f (t,y)$.  In particular it aims to approximate the integral in the update\n",
    "\\begin{equation}\\tag{1}\n",
    "y^{n+1}=y^n+\\int_{t_i}^{t_{i+1}} f(t, y) d t\n",
    "\\end{equation}\n",
    "\n",
    "These schemes are based on fitting a polynomial to the set of data points $\\left(t_{i-n}, f_{i-n}\\right),\\left(t_{i-n+1}, f_{i-n+1}\\right), \\ldots\\left(t_i, f_i\\right),\\left(t_{i+1}, f_{i+1}\\right)$ and integrating this polynomial, but ONLY over the interval $(t_{i},t_{i+1})$.  The underlying idea is that the polynomial fit uses information from the <i>“past”</i> to provide better information over the next step (<i>i.e.</i> $t_i$ to $t_{i+1}$). \n",
    "\n",
    "Using four points equally spaced in time, $(t_{i-2},t_{i-1},t_{i},t_{i+1})$ and the associated function values at these times $(f_{i-2},f_{i-1},f_{i},f_{i+1})$ derive the three-segment Adams-Moulton scheme (AM3) to update $y^n$.\n",
    "\n",
    "In a Predictor-Corrector Algorithm, Adams-Bashforth method is used to predict $f_{i+1}$ and Adams-Moulton method is used to correct the prediction. How many segments should be used for the Adams-Bashforth method and why? \n",
    "\n",
    "**SHOW ALL YOUR WORKING**\n"
   ]
  },
  {
   "cell_type": "markdown",
   "metadata": {},
   "source": [
    "# Question 2 (15 marks)\n",
    "Consider the second order ordinary differential equation (ODE) given by\n",
    "\n",
    "\\begin{equation}\\tag{2}\n",
    "\\frac{d^2 u }{d r^2} + \\frac{1}{r} \\frac{d u}{d r} + \\lambda ^2 u= 0 \\\\\n",
    "\\end{equation}\n",
    "\n",
    "with boundary conditions $  \\left.\\frac{\\partial u}{\\partial r}\\right|_{r=0}=0 $ and $ u(R)=0 $. These boundary conditions can only be satisfied for certain values of the parameter, $\\lambda$, which are known as eigenvalues. "
   ]
  },
  {
   "cell_type": "markdown",
   "metadata": {},
   "source": [
    "## Q2a (1 marks)\n",
    "By hand, write the centered finite difference equation that approximates this equation at an arbitrary point, $x_i$ assuming a uniform mesh spacing, $h$."
   ]
  },
  {
   "cell_type": "markdown",
   "metadata": {},
   "source": [
    "**Copy and paste your hand-written response here**"
   ]
  },
  {
   "cell_type": "markdown",
   "metadata": {},
   "source": [
    "## Q2b (3 marks)\n",
    "\n",
    "Use the relaxation method and a mesh spacing of $h=R/4$ to explicitly write by hand the matrix equation that approximates the eigenvalue problem.  \n",
    "\n",
    "**Do not solve the system**."
   ]
  },
  {
   "cell_type": "markdown",
   "metadata": {},
   "source": [
    "**Copy and paste your hand-written response here**"
   ]
  },
  {
   "cell_type": "markdown",
   "metadata": {},
   "source": [
    "## Q2c (2 marks)\n",
    "\n",
    "Use a $R = 10$ for the rest of Question 2.\n",
    "\n",
    "Write a Python function that calculates the eigenvalues for this problem given the number of mesh points including the end points. Code the boundary conditions inside this function and, print out the matrix for $N=5$.\n"
   ]
  },
  {
   "cell_type": "markdown",
   "metadata": {},
   "source": [
    "**Provide the pseudo code for your algorithm before writing the code.**"
   ]
  },
  {
   "cell_type": "code",
   "execution_count": 2,
   "metadata": {},
   "outputs": [],
   "source": [
    "def generate_matrix(N):\n",
    "    '''\n",
    "    Generate the matrix for the eigenvalue problem given the number of mesh points including the end points.\n",
    "    input:\n",
    "    N: int, number of mesh points including the end points.\n",
    "    output:\n",
    "    A: np.array, the matrix for the eigenvalue problem.\n",
    "    '''\n",
    "    #write your codes here\n",
    "    return A\n",
    "\n",
    "#write your codes here"
   ]
  },
  {
   "cell_type": "markdown",
   "metadata": {},
   "source": [
    "## Q2d (4 marks)\n",
    "\n",
    "Write Python code that:\n",
    "- constructs the matrix for this eigenvalue problem for $N=100$.\n",
    "- uses the `eig` function provided by the `numpy.linalg` package to solve the eigenvalue problem.\n",
    "- prints the five largest eigenvalues for this problem to 5 decimal places with an adequate description and comment.\n",
    "- plots all the eigenvalues as dots in a figure sorted from maximum to minimum.\n",
    "- in another figure, plots the eigenfunctions corresponding to the first, second and fourth largest eigenvalues as solid lines. Include a legend in the plot."
   ]
  },
  {
   "cell_type": "code",
   "execution_count": 3,
   "metadata": {},
   "outputs": [],
   "source": [
    "from scipy.linalg import eig\n",
    "#write your codes here"
   ]
  },
  {
   "cell_type": "markdown",
   "metadata": {},
   "source": [
    "## Q2e (5 marks)\n",
    "What is an alternative method to solve this ODE? Write an algorithm to solve this ODE using the alternative method, and clearly specify the values that are fixed, what values are adjustable and what values are the constrains. "
   ]
  },
  {
   "cell_type": "markdown",
   "metadata": {},
   "source": [
    "**Copy and paste your hand-written or typed response here**"
   ]
  },
  {
   "cell_type": "markdown",
   "metadata": {},
   "source": [
    "# Question 3 (9 marks)"
   ]
  },
  {
   "cell_type": "markdown",
   "metadata": {},
   "source": [
    "Consider the 1-D diffusion equation:\n",
    "\\begin{equation}\\tag{3}\n",
    "\\frac{\\partial q}{\\partial t}=\\kappa \\frac{\\partial^2 q}{\\partial x^2}\n",
    "\\end{equation}"
   ]
  },
  {
   "cell_type": "markdown",
   "metadata": {},
   "source": [
    "## Q3a (3 marks)\n",
    "Write the centered in space, Crank-Nicolson (CN) discretization of this equation as well as the Theta scheme based on CN discretization. Comment when $\\theta=0$, $\\theta=-1$ and $\\theta=1$, what are these Theta schemes equivalent to?"
   ]
  },
  {
   "cell_type": "markdown",
   "metadata": {},
   "source": [
    "**Copy and paste your hand-written response here**"
   ]
  },
  {
   "cell_type": "markdown",
   "metadata": {},
   "source": [
    "## Q3b (6 marks)\n",
    "Undertake a von Neumann stability analysis for the CN discretization and derive (and clearly state) the amplification factor as a function of the timestep $\\delta t$.  Compare the amplification factor for CN to the amplification factor for the Forward in Time, Centered in Space (FTCS) discretization.  Is the CN method stable, conditionally stable or unstable?"
   ]
  },
  {
   "cell_type": "markdown",
   "metadata": {},
   "source": [
    "**Copy and paste your hand-written response here**"
   ]
  },
  {
   "cell_type": "markdown",
   "metadata": {},
   "source": [
    "# Question 4 (24 marks)"
   ]
  },
  {
   "cell_type": "markdown",
   "metadata": {},
   "source": [
    "In this equation, we will solve the 1-D diffusion equation using the Theta scheme. \n",
    "\n",
    "The computational domain is $0\\leq x \\leq 10$ and the boundary conditions are given as $q(0,t)=1$ and $\\left. \\frac{\\partial q}{\\partial x}\\right|_{x=10}=0$. \n",
    "\n",
    "The initial condition is:\n",
    "\n",
    "\\begin{equation}\\tag{4}\n",
    "q(x,0)=\\begin{cases}\n",
    "      -1 & \\text{if } \\frac{10}{3}< x \\leq \\frac{20}{3} \\\\\n",
    "      1 & \\text{otherwise}\n",
    "    \\end{cases}\n",
    "\\end{equation}"
   ]
  },
  {
   "cell_type": "markdown",
   "metadata": {},
   "source": [
    "## Q4a (5 marks)\n",
    "If all unknown values at $t=n+1$ in the Theta scheme are moved to the LHS and all other terms are kept on the right hand side, the equation can be written in the form of:\n",
    "\n",
    "\\begin{equation}\\tag{5}\n",
    "[\\mathbf{L}] \\mathbf{q}^{n+1} = [\\mathbf{R}] \\mathbf{q}^{n} + [\\mathbf{BC}]\n",
    "\\end{equation}\n",
    "\n",
    "Discretize the equation into 4 intervals and write the matrix $\\mathbf{L}$, $\\mathbf{R}$ and $\\mathbf{BC}$ for the problem. Because of the boundary condition at $x = 0$, both $\\mathbf{L}$ and $\\mathbf{R}$ are $4\\times4$ matrices. Don't substitute the values of $\\kappa$, $\\delta t$ and $\\delta x$ in the matrix. Note: centred difference must be used at the right boundary condition."
   ]
  },
  {
   "cell_type": "markdown",
   "metadata": {},
   "source": [
    "**Copy and paste your hand-written response here**"
   ]
  },
  {
   "cell_type": "markdown",
   "metadata": {},
   "source": [
    "## Q4b (4 marks)\n",
    "Write a Python function that solves the 1D heat equation using the theta scheme with the boundary conditions specified above.\n",
    "\n",
    "The equation to update the solution is given by:\n",
    "\n",
    "\\begin{equation}\\tag{5}\n",
    "\\mathbf{q}^{n+1} = [\\mathbf{L}] ^{-1} [\\mathbf{R}] \\mathbf{q}^{n} +[\\mathbf{L}] ^{-1} [\\mathbf{BC}]\n",
    "\\end{equation}\n",
    "\n",
    "You can use `numpy.linalg.inv` to invert $\\mathbf{L}$. Also note that $\\mathbf{L}$, $\\mathbf{R}$ and $\\mathbf{BC}$ don't change with time, so they only need to be calcutated once before looping through time."
   ]
  },
  {
   "cell_type": "markdown",
   "metadata": {},
   "source": [
    "**Provide the pseudo code for your algorithm before writing the code.**"
   ]
  },
  {
   "cell_type": "code",
   "execution_count": 4,
   "metadata": {},
   "outputs": [],
   "source": [
    "from numpy.linalg import inv\n",
    "\n",
    "def theta_solve(tmax,q0,dx,dt,kappa,theta):\n",
    "    '''\n",
    "    Solve the heat equation using the theta method.\n",
    "    input:\n",
    "    tmax (float) : final time\n",
    "    q0 (np.array) : initial condition\n",
    "    dx (float) : mesh spacing\n",
    "    dt (float) : time step\n",
    "    kappa (float) : diffusivity\n",
    "    theta (float) : implicitness parameter\n",
    "    output:\n",
    "    t (np.array) : time points\n",
    "    qsol (np.array) : solution at each time point as a 2d array\n",
    "    '''\n",
    "    #write your codes here\n",
    "    return t, qsol\n"
   ]
  },
  {
   "cell_type": "markdown",
   "metadata": {},
   "source": [
    "## Q4c (5 marks)\n",
    "For the problem, use $\\kappa=1$, and $t_{max}=9$, and discretize the domain with 100 intervals (101 points). \n",
    "\n",
    "Write Python code that:\n",
    "- calculates the stability timestep restriction for the 1D heat equation IF you were to use the FTCS scheme and call it `dt_stab`. \n",
    "- prints the stability timestep restriction with an adequate description.\n",
    "- solves the 1D heat equation using the theta scheme with $\\theta=-1$ and timesteps of `0.5*dt_stab`, `dt_stab` and `1.001*dt_stab`.\n",
    "- for each of the different choices of the timestep, plots the solution from $t=0s$ to $t=9s$ with an interval of $\\Delta t= 1s$ on the same plot (<i>i.e.</i> you should have 3 subplots, each with 10 curves). (DO NOT be concerned about ensuring the plots are at EXACTLY these times, nearest timestep is sufficient.)\n",
    "\n",
    "Write a brief statement that describes what you observe in each plot. "
   ]
  },
  {
   "cell_type": "code",
   "execution_count": 5,
   "metadata": {},
   "outputs": [],
   "source": [
    "    #write your codes here"
   ]
  },
  {
   "cell_type": "markdown",
   "metadata": {},
   "source": [
    "**Write your comments here**"
   ]
  },
  {
   "cell_type": "markdown",
   "metadata": {},
   "source": [
    "## Q4d (5 marks)\n",
    "Repeat Q4c (including plotting the figures) with the following changes:\n",
    "\n",
    "1. Use $\\theta$ = 0.0\n",
    "2. Use timesteps of 0.1, 0.2, 0.5\n",
    "\n",
    "Write a brief statement that describes what you observe in each plot. "
   ]
  },
  {
   "cell_type": "code",
   "execution_count": 6,
   "metadata": {},
   "outputs": [],
   "source": [
    "    #write your codes here"
   ]
  },
  {
   "cell_type": "markdown",
   "metadata": {},
   "source": [
    "**Write your comments here**"
   ]
  },
  {
   "cell_type": "markdown",
   "metadata": {},
   "source": [
    "## Q4e (5 marks)\n",
    "Repeat Q4d (including plotting the figures) using $\\theta$ = 0.1.\n",
    "\n",
    "Write a brief statement that describes what you observe in each plot. "
   ]
  },
  {
   "cell_type": "code",
   "execution_count": 7,
   "metadata": {},
   "outputs": [],
   "source": [
    "    #write your codes here"
   ]
  },
  {
   "cell_type": "markdown",
   "metadata": {},
   "source": [
    "**Write your comments here**"
   ]
  }
 ],
 "metadata": {
  "kernelspec": {
   "display_name": "Python 3",
   "language": "python",
   "name": "python3"
  },
  "language_info": {
   "codemirror_mode": {
    "name": "ipython",
    "version": 3
   },
   "file_extension": ".py",
   "mimetype": "text/x-python",
   "name": "python",
   "nbconvert_exporter": "python",
   "pygments_lexer": "ipython3",
   "version": "3.7.3"
  }
 },
 "nbformat": 4,
 "nbformat_minor": 2
}
